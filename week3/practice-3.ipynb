{
 "cells": [
  {
   "cell_type": "code",
   "execution_count": null,
   "metadata": {},
   "outputs": [
    {
     "name": "stderr",
     "output_type": "stream",
     "text": [
      "2025-03-31 14:09:41.565 Python[8278:9690193] +[IMKClient subclass]: chose IMKClient_Modern\n",
      "2025-03-31 14:09:41.565 Python[8278:9690193] +[IMKInputSession subclass]: chose IMKInputSession_Modern\n"
     ]
    }
   ],
   "source": [
    "import numpy as np\n",
    "import matplotlib.pyplot as plt\n",
    "import cv2 as cv\n",
    "\n",
    "img = cv.imread('../images/image.jpeg', 0)\n",
    "rows, cols = img.shape\n",
    "\n",
    "# Plot the original image\n",
    "plt.subplot(1,2,1)\n",
    "plt.title(\"Original\")\n",
    "plt.imshow(img)\n",
    "\n",
    "img_rotation = cv.warpAffine(img, cv.getRotationMatrix2D((cols/2, rows/2), 30, 0.6), (cols, rows))\n",
    "\n",
    "# Plot the rotated image\n",
    "plt.subplot(1,2,2)\n",
    "plt.title(\"Rotated Image\")\n",
    "plt.imshow(img_rotation)\n",
    "\n",
    "cv.imshow('img', img_rotation)\n",
    "cv.imwrite('rotation_out.jpg', img_rotation)\n",
    "cv.waitKey(0)\n",
    "cv.destroyAllWindows()"
   ]
  }
 ],
 "metadata": {
  "kernelspec": {
   "display_name": "Python 3",
   "language": "python",
   "name": "python3"
  },
  "language_info": {
   "codemirror_mode": {
    "name": "ipython",
    "version": 3
   },
   "file_extension": ".py",
   "mimetype": "text/x-python",
   "name": "python",
   "nbconvert_exporter": "python",
   "pygments_lexer": "ipython3",
   "version": "3.9.6"
  }
 },
 "nbformat": 4,
 "nbformat_minor": 2
}
