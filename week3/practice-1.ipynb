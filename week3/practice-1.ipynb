{
 "cells": [
  {
   "cell_type": "code",
   "execution_count": null,
   "metadata": {},
   "outputs": [],
   "source": [
    "import numpy as np\n",
    "import matplotlib.pyplot as plt\n",
    "import cv2 as cv\n",
    "\n",
    "img = cv.imread('../images/image.jpeg', 0)\n",
    "rows, cols = img.shape\n",
    "\n",
    "# Plot the original image\n",
    "plt.subplot(1,2,1)\n",
    "plt.title('Original Image')\n",
    "plt.imshow(img)\n",
    "\n",
    "M = np.float32([[1,0,100], [0,1,50]])\n",
    "transl = cv.warpAffine(img, M, (cols, rows))\n",
    "\n",
    "# Plot the translated image\n",
    "plt.subplot(1,2,2)\n",
    "plt.title(\"Translated Image\")\n",
    "plt.imshow(transl)\n",
    "\n",
    "cv.waitKey(0)\n",
    "cv.destroyAllWindows()"
   ]
  }
 ],
 "metadata": {
  "kernelspec": {
   "display_name": "Python 3",
   "language": "python",
   "name": "python3"
  },
  "language_info": {
   "codemirror_mode": {
    "name": "ipython",
    "version": 3
   },
   "file_extension": ".py",
   "mimetype": "text/x-python",
   "name": "python",
   "nbconvert_exporter": "python",
   "pygments_lexer": "ipython3",
   "version": "3.9.6"
  }
 },
 "nbformat": 4,
 "nbformat_minor": 2
}
