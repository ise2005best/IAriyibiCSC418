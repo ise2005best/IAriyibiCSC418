{
 "cells": [
  {
   "cell_type": "markdown",
   "metadata": {},
   "source": [
    "## Arithmetic Operations on Images"
   ]
  },
  {
   "cell_type": "code",
   "execution_count": null,
   "metadata": {},
   "outputs": [
    {
     "name": "stderr",
     "output_type": "stream",
     "text": [
      "2025-03-20 11:44:14.479 Python[94290:4377997] +[IMKClient subclass]: chose IMKClient_Modern\n",
      "2025-03-20 11:44:14.479 Python[94290:4377997] +[IMKInputSession subclass]: chose IMKInputSession_Modern\n"
     ]
    }
   ],
   "source": [
    "# Program to illustrate arithmetic operation of addition\n",
    "\n",
    "import cv2\n",
    "\n",
    "image1 = cv2.imread(\"../images/image1.jpeg\")\n",
    "image2 = cv2.imread(\"../images/image2.jpeg\")\n",
    "\n",
    "# Resize the image\n",
    "image1 = cv2.resize(image1, (500, 400))\n",
    "image2 = cv2.resize(image2, (500, 400))\n",
    "\n",
    "# cv2.addWeighted with applied parameters\n",
    "\n",
    "addImage = cv2.addWeighted(image1, 0.5, image2, 0.6, 0)\n",
    "\n",
    "#sub = cv2.subtract(image1, image2)\n",
    "\n",
    "# window showing output image\n",
    "\n",
    "cv2.imshow(\"Weighted Image\", addImage)\n",
    "\n",
    "# Deallocate any associated memory usage\n",
    "if cv2.waitKey(0) & 0xff == 27:\n",
    "    cv2.destroyAllWindows()"
   ]
  }
 ],
 "metadata": {
  "kernelspec": {
   "display_name": "Python 3",
   "language": "python",
   "name": "python3"
  },
  "language_info": {
   "codemirror_mode": {
    "name": "ipython",
    "version": 3
   },
   "file_extension": ".py",
   "mimetype": "text/x-python",
   "name": "python",
   "nbconvert_exporter": "python",
   "pygments_lexer": "ipython3",
   "version": "3.9.6"
  }
 },
 "nbformat": 4,
 "nbformat_minor": 2
}
